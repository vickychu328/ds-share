{
 "cells": [
  {
   "cell_type": "code",
   "execution_count": 2,
   "id": "0f37e026",
   "metadata": {},
   "outputs": [
    {
     "name": "stderr",
     "output_type": "stream",
     "text": [
      "/Users/kachu/anaconda3/lib/python3.11/site-packages/pandas/core/arrays/masked.py:60: UserWarning: Pandas requires version '1.3.6' or newer of 'bottleneck' (version '1.3.5' currently installed).\n",
      "  from pandas.core import (\n"
     ]
    }
   ],
   "source": [
    "import pandas as pd\n",
    "import matplotlib.pyplot as plt\n",
    "import seaborn as sns\n",
    "import os\n"
   ]
  },
  {
   "cell_type": "code",
   "execution_count": 3,
   "id": "867310cf",
   "metadata": {},
   "outputs": [],
   "source": [
    "file_path = '/Users/kachu/Desktop/DS/smoking_driking_dataset_Ver01.csv'\n",
    "health_data = pd.read_csv(file_path)\n",
    "df=health_data"
   ]
  },
  {
   "cell_type": "code",
   "execution_count": 4,
   "id": "77461162",
   "metadata": {},
   "outputs": [
    {
     "name": "stdout",
     "output_type": "stream",
     "text": [
      "<class 'pandas.core.frame.DataFrame'>\n",
      "RangeIndex: 991346 entries, 0 to 991345\n",
      "Data columns (total 24 columns):\n",
      " #   Column            Non-Null Count   Dtype  \n",
      "---  ------            --------------   -----  \n",
      " 0   sex               991346 non-null  object \n",
      " 1   age               991346 non-null  int64  \n",
      " 2   height            991346 non-null  int64  \n",
      " 3   weight            991346 non-null  int64  \n",
      " 4   waistline         991346 non-null  float64\n",
      " 5   sight_left        991346 non-null  float64\n",
      " 6   sight_right       991346 non-null  float64\n",
      " 7   hear_left         991346 non-null  float64\n",
      " 8   hear_right        991346 non-null  float64\n",
      " 9   SBP               991346 non-null  float64\n",
      " 10  DBP               991346 non-null  float64\n",
      " 11  BLDS              991346 non-null  float64\n",
      " 12  tot_chole         991346 non-null  float64\n",
      " 13  HDL_chole         991346 non-null  float64\n",
      " 14  LDL_chole         991346 non-null  float64\n",
      " 15  triglyceride      991346 non-null  float64\n",
      " 16  hemoglobin        991346 non-null  float64\n",
      " 17  urine_protein     991346 non-null  float64\n",
      " 18  serum_creatinine  991346 non-null  float64\n",
      " 19  SGOT_AST          991346 non-null  float64\n",
      " 20  SGOT_ALT          991346 non-null  float64\n",
      " 21  gamma_GTP         991346 non-null  float64\n",
      " 22  SMK_stat_type_cd  991346 non-null  float64\n",
      " 23  DRK_YN            991346 non-null  object \n",
      "dtypes: float64(19), int64(3), object(2)\n",
      "memory usage: 181.5+ MB\n"
     ]
    }
   ],
   "source": [
    "df.info()"
   ]
  },
  {
   "cell_type": "code",
   "execution_count": 5,
   "id": "633b1f21",
   "metadata": {},
   "outputs": [
    {
     "data": {
      "text/plain": [
       "Index(['sex', 'age', 'height', 'weight', 'waistline', 'sight_left',\n",
       "       'sight_right', 'hear_left', 'hear_right', 'SBP', 'DBP', 'BLDS',\n",
       "       'tot_chole', 'HDL_chole', 'LDL_chole', 'triglyceride', 'hemoglobin',\n",
       "       'urine_protein', 'serum_creatinine', 'SGOT_AST', 'SGOT_ALT',\n",
       "       'gamma_GTP', 'SMK_stat_type_cd', 'DRK_YN'],\n",
       "      dtype='object')"
      ]
     },
     "execution_count": 5,
     "metadata": {},
     "output_type": "execute_result"
    }
   ],
   "source": [
    "df.columns"
   ]
  },
  {
   "cell_type": "code",
   "execution_count": 6,
   "id": "caac74a2",
   "metadata": {},
   "outputs": [
    {
     "data": {
      "text/html": [
       "<div>\n",
       "<style scoped>\n",
       "    .dataframe tbody tr th:only-of-type {\n",
       "        vertical-align: middle;\n",
       "    }\n",
       "\n",
       "    .dataframe tbody tr th {\n",
       "        vertical-align: top;\n",
       "    }\n",
       "\n",
       "    .dataframe thead th {\n",
       "        text-align: right;\n",
       "    }\n",
       "</style>\n",
       "<table border=\"1\" class=\"dataframe\">\n",
       "  <thead>\n",
       "    <tr style=\"text-align: right;\">\n",
       "      <th></th>\n",
       "      <th>sex</th>\n",
       "      <th>age</th>\n",
       "      <th>height</th>\n",
       "      <th>weight</th>\n",
       "      <th>waistline</th>\n",
       "      <th>sight_left</th>\n",
       "      <th>sight_right</th>\n",
       "      <th>hear_left</th>\n",
       "      <th>hear_right</th>\n",
       "      <th>SBP</th>\n",
       "      <th>...</th>\n",
       "      <th>LDL_chole</th>\n",
       "      <th>triglyceride</th>\n",
       "      <th>hemoglobin</th>\n",
       "      <th>urine_protein</th>\n",
       "      <th>serum_creatinine</th>\n",
       "      <th>SGOT_AST</th>\n",
       "      <th>SGOT_ALT</th>\n",
       "      <th>gamma_GTP</th>\n",
       "      <th>SMK_stat_type_cd</th>\n",
       "      <th>DRK_YN</th>\n",
       "    </tr>\n",
       "  </thead>\n",
       "  <tbody>\n",
       "    <tr>\n",
       "      <th>0</th>\n",
       "      <td>Male</td>\n",
       "      <td>35</td>\n",
       "      <td>170</td>\n",
       "      <td>75</td>\n",
       "      <td>90.0</td>\n",
       "      <td>1.0</td>\n",
       "      <td>1.0</td>\n",
       "      <td>1.0</td>\n",
       "      <td>1.0</td>\n",
       "      <td>120.0</td>\n",
       "      <td>...</td>\n",
       "      <td>126.0</td>\n",
       "      <td>92.0</td>\n",
       "      <td>17.1</td>\n",
       "      <td>1.0</td>\n",
       "      <td>1.0</td>\n",
       "      <td>21.0</td>\n",
       "      <td>35.0</td>\n",
       "      <td>40.0</td>\n",
       "      <td>1.0</td>\n",
       "      <td>Y</td>\n",
       "    </tr>\n",
       "    <tr>\n",
       "      <th>1</th>\n",
       "      <td>Male</td>\n",
       "      <td>30</td>\n",
       "      <td>180</td>\n",
       "      <td>80</td>\n",
       "      <td>89.0</td>\n",
       "      <td>0.9</td>\n",
       "      <td>1.2</td>\n",
       "      <td>1.0</td>\n",
       "      <td>1.0</td>\n",
       "      <td>130.0</td>\n",
       "      <td>...</td>\n",
       "      <td>148.0</td>\n",
       "      <td>121.0</td>\n",
       "      <td>15.8</td>\n",
       "      <td>1.0</td>\n",
       "      <td>0.9</td>\n",
       "      <td>20.0</td>\n",
       "      <td>36.0</td>\n",
       "      <td>27.0</td>\n",
       "      <td>3.0</td>\n",
       "      <td>N</td>\n",
       "    </tr>\n",
       "    <tr>\n",
       "      <th>2</th>\n",
       "      <td>Male</td>\n",
       "      <td>40</td>\n",
       "      <td>165</td>\n",
       "      <td>75</td>\n",
       "      <td>91.0</td>\n",
       "      <td>1.2</td>\n",
       "      <td>1.5</td>\n",
       "      <td>1.0</td>\n",
       "      <td>1.0</td>\n",
       "      <td>120.0</td>\n",
       "      <td>...</td>\n",
       "      <td>74.0</td>\n",
       "      <td>104.0</td>\n",
       "      <td>15.8</td>\n",
       "      <td>1.0</td>\n",
       "      <td>0.9</td>\n",
       "      <td>47.0</td>\n",
       "      <td>32.0</td>\n",
       "      <td>68.0</td>\n",
       "      <td>1.0</td>\n",
       "      <td>N</td>\n",
       "    </tr>\n",
       "    <tr>\n",
       "      <th>3</th>\n",
       "      <td>Male</td>\n",
       "      <td>50</td>\n",
       "      <td>175</td>\n",
       "      <td>80</td>\n",
       "      <td>91.0</td>\n",
       "      <td>1.5</td>\n",
       "      <td>1.2</td>\n",
       "      <td>1.0</td>\n",
       "      <td>1.0</td>\n",
       "      <td>145.0</td>\n",
       "      <td>...</td>\n",
       "      <td>104.0</td>\n",
       "      <td>106.0</td>\n",
       "      <td>17.6</td>\n",
       "      <td>1.0</td>\n",
       "      <td>1.1</td>\n",
       "      <td>29.0</td>\n",
       "      <td>34.0</td>\n",
       "      <td>18.0</td>\n",
       "      <td>1.0</td>\n",
       "      <td>N</td>\n",
       "    </tr>\n",
       "    <tr>\n",
       "      <th>4</th>\n",
       "      <td>Male</td>\n",
       "      <td>50</td>\n",
       "      <td>165</td>\n",
       "      <td>60</td>\n",
       "      <td>80.0</td>\n",
       "      <td>1.0</td>\n",
       "      <td>1.2</td>\n",
       "      <td>1.0</td>\n",
       "      <td>1.0</td>\n",
       "      <td>138.0</td>\n",
       "      <td>...</td>\n",
       "      <td>117.0</td>\n",
       "      <td>104.0</td>\n",
       "      <td>13.8</td>\n",
       "      <td>1.0</td>\n",
       "      <td>0.8</td>\n",
       "      <td>19.0</td>\n",
       "      <td>12.0</td>\n",
       "      <td>25.0</td>\n",
       "      <td>1.0</td>\n",
       "      <td>N</td>\n",
       "    </tr>\n",
       "  </tbody>\n",
       "</table>\n",
       "<p>5 rows × 24 columns</p>\n",
       "</div>"
      ],
      "text/plain": [
       "    sex  age  height  weight  waistline  sight_left  sight_right  hear_left  \\\n",
       "0  Male   35     170      75       90.0         1.0          1.0        1.0   \n",
       "1  Male   30     180      80       89.0         0.9          1.2        1.0   \n",
       "2  Male   40     165      75       91.0         1.2          1.5        1.0   \n",
       "3  Male   50     175      80       91.0         1.5          1.2        1.0   \n",
       "4  Male   50     165      60       80.0         1.0          1.2        1.0   \n",
       "\n",
       "   hear_right    SBP  ...  LDL_chole  triglyceride  hemoglobin  urine_protein  \\\n",
       "0         1.0  120.0  ...      126.0          92.0        17.1            1.0   \n",
       "1         1.0  130.0  ...      148.0         121.0        15.8            1.0   \n",
       "2         1.0  120.0  ...       74.0         104.0        15.8            1.0   \n",
       "3         1.0  145.0  ...      104.0         106.0        17.6            1.0   \n",
       "4         1.0  138.0  ...      117.0         104.0        13.8            1.0   \n",
       "\n",
       "   serum_creatinine  SGOT_AST  SGOT_ALT  gamma_GTP  SMK_stat_type_cd  DRK_YN  \n",
       "0               1.0      21.0      35.0       40.0               1.0       Y  \n",
       "1               0.9      20.0      36.0       27.0               3.0       N  \n",
       "2               0.9      47.0      32.0       68.0               1.0       N  \n",
       "3               1.1      29.0      34.0       18.0               1.0       N  \n",
       "4               0.8      19.0      12.0       25.0               1.0       N  \n",
       "\n",
       "[5 rows x 24 columns]"
      ]
     },
     "execution_count": 6,
     "metadata": {},
     "output_type": "execute_result"
    }
   ],
   "source": [
    "df.head()"
   ]
  },
  {
   "cell_type": "code",
   "execution_count": 7,
   "id": "a53ccbc5",
   "metadata": {},
   "outputs": [],
   "source": [
    "#Classification of gender\n",
    "df['sex'] = df['sex'].map({\n",
    "    \"Male\": 0,\n",
    "    \"Female\":1,\n",
    "    })"
   ]
  },
  {
   "cell_type": "code",
   "execution_count": null,
   "id": "016aecd4",
   "metadata": {},
   "outputs": [],
   "source": []
  },
  {
   "cell_type": "code",
   "execution_count": null,
   "id": "19e79c21",
   "metadata": {},
   "outputs": [],
   "source": []
  },
  {
   "cell_type": "code",
   "execution_count": 8,
   "id": "cac5e85f",
   "metadata": {},
   "outputs": [
    {
     "data": {
      "text/plain": [
       "count    991346.000000\n",
       "mean         47.614491\n",
       "std          14.181339\n",
       "min          20.000000\n",
       "25%          35.000000\n",
       "50%          45.000000\n",
       "75%          60.000000\n",
       "max          85.000000\n",
       "Name: age, dtype: float64"
      ]
     },
     "execution_count": 8,
     "metadata": {},
     "output_type": "execute_result"
    }
   ],
   "source": [
    "#check the age demographics\n",
    "df['age'].describe()"
   ]
  },
  {
   "cell_type": "code",
   "execution_count": 9,
   "id": "b6c1703a",
   "metadata": {},
   "outputs": [
    {
     "data": {
      "image/png": "[encoded data removed]",
      "text/plain": [
       "<Figure size 640x480 with 1 Axes>"
      ]
     },
     "metadata": {},
     "output_type": "display_data"
    }
   ],
   "source": [
    "#age histogram\n",
    "import matplotlib.pyplot as plt\n",
    "\n",
    "plt.hist(df['age'], bins=20, edgecolor='black')\n",
    "plt.title('Distribution of Age')\n",
    "plt.xlabel('Age')\n",
    "plt.ylabel('counts')\n",
    "plt.show()"
   ]
  },
  {
   "cell_type": "code",
   "execution_count": 10,
   "id": "3e2a3c8b",
   "metadata": {},
   "outputs": [],
   "source": [
    "df.rename(columns={'SMK_stat_type_cd': 'smoke_status'}, inplace=True)\n",
    "df.rename(columns={'DRK_YN': 'drinker_status'}, inplace=True)"
   ]
  },
  {
   "cell_type": "code",
   "execution_count": 11,
   "id": "d8ebdd71",
   "metadata": {},
   "outputs": [
    {
     "name": "stdout",
     "output_type": "stream",
     "text": [
      "sex                 0\n",
      "age                 0\n",
      "height              0\n",
      "weight              0\n",
      "waistline           0\n",
      "sight_left          0\n",
      "sight_right         0\n",
      "hear_left           0\n",
      "hear_right          0\n",
      "SBP                 0\n",
      "DBP                 0\n",
      "BLDS                0\n",
      "tot_chole           0\n",
      "HDL_chole           0\n",
      "LDL_chole           0\n",
      "triglyceride        0\n",
      "hemoglobin          0\n",
      "urine_protein       0\n",
      "serum_creatinine    0\n",
      "SGOT_AST            0\n",
      "SGOT_ALT            0\n",
      "gamma_GTP           0\n",
      "smoke_status        0\n",
      "drinker_status      0\n",
      "dtype: int64\n"
     ]
    }
   ],
   "source": [
    "#check if any null values\n",
    "null_values = df.isnull().sum()\n",
    "print(null_values)"
   ]
  },
  {
   "cell_type": "code",
   "execution_count": 12,
   "id": "8972294a",
   "metadata": {},
   "outputs": [
    {
     "data": {
      "image/png": "[encoded data removed]",
      "text/plain": [
       "<Figure size 640x480 with 1 Axes>"
      ]
     },
     "metadata": {},
     "output_type": "display_data"
    }
   ],
   "source": [
    "sns.countplot(data=df,\n",
    "              x='smoke_status')\n",
    "plt.xticks([0, 1, 2], ['Never', 'Used to smoke but quit', 'Still smoke'])\n",
    "plt.ylabel('Frequency')\n",
    "plt.title('smoking habbit')\n",
    "sns.despine()\n",
    "plt.show()"
   ]
  },
  {
   "cell_type": "code",
   "execution_count": 13,
   "id": "40bc9341",
   "metadata": {},
   "outputs": [
    {
     "name": "stdout",
     "output_type": "stream",
     "text": [
      "drinker_status\n",
      "N    495858\n",
      "Y    495488\n",
      "Name: count, dtype: int64\n"
     ]
    }
   ],
   "source": [
    "print(df['drinker_status'].value_counts())"
   ]
  },
  {
   "cell_type": "code",
   "execution_count": 14,
   "id": "97a885ec",
   "metadata": {},
   "outputs": [
    {
     "data": {
      "image/png": "[encoded data removed]",
      "text/plain": [
       "<Figure size 640x480 with 1 Axes>"
      ]
     },
     "metadata": {},
     "output_type": "display_data"
    }
   ],
   "source": [
    "sns.countplot(data=df,\n",
    "              x='drinker_status')\n",
    "plt.xlabel('')\n",
    "plt.ylabel('Frequency')\n",
    "plt.title('Drinker Status')\n",
    "sns.despine()\n",
    "plt.show()"
   ]
  },
  {
   "cell_type": "code",
   "execution_count": null,
   "id": "6b68662f",
   "metadata": {},
   "outputs": [
    {
     "name": "stderr",
     "output_type": "stream",
     "text": [
      "/Users/kachu/anaconda3/lib/python3.11/site-packages/seaborn/_oldcore.py:1119: FutureWarning: use_inf_as_na option is deprecated and will be removed in a future version. Convert inf values to NaN before operating instead.\n",
      "  with pd.option_context('mode.use_inf_as_na', True):\n",
      "/Users/kachu/anaconda3/lib/python3.11/site-packages/seaborn/_oldcore.py:1119: FutureWarning: use_inf_as_na option is deprecated and will be removed in a future version. Convert inf values to NaN before operating instead.\n",
      "  with pd.option_context('mode.use_inf_as_na', True):\n",
      "/Users/kachu/anaconda3/lib/python3.11/site-packages/seaborn/_oldcore.py:1075: FutureWarning: When grouping with a length-1 list-like, you will need to pass a length-1 tuple to get_group in a future version of pandas. Pass `(name,)` instead of `name` to silence this warning.\n",
      "  data_subset = grouped_data.get_group(pd_key)\n",
      "/Users/kachu/anaconda3/lib/python3.11/site-packages/seaborn/categorical.py:3544: UserWarning: 85.2% of the points cannot be placed; you may want to decrease the size of the markers or use stripplot.\n",
      "  warnings.warn(msg, UserWarning)\n",
      "/Users/kachu/anaconda3/lib/python3.11/site-packages/seaborn/categorical.py:3544: UserWarning: 46.2% of the points cannot be placed; you may want to decrease the size of the markers or use stripplot.\n",
      "  warnings.warn(msg, UserWarning)\n",
      "/Users/kachu/anaconda3/lib/python3.11/site-packages/seaborn/categorical.py:3544: UserWarning: 45.5% of the points cannot be placed; you may want to decrease the size of the markers or use stripplot.\n",
      "  warnings.warn(msg, UserWarning)\n",
      "/Users/kachu/anaconda3/lib/python3.11/site-packages/seaborn/categorical.py:3544: UserWarning: 60.0% of the points cannot be placed; you may want to decrease the size of the markers or use stripplot.\n",
      "  warnings.warn(msg, UserWarning)\n",
      "/Users/kachu/anaconda3/lib/python3.11/site-packages/seaborn/categorical.py:3544: UserWarning: 56.5% of the points cannot be placed; you may want to decrease the size of the markers or use stripplot.\n",
      "  warnings.warn(msg, UserWarning)\n",
      "/Users/kachu/anaconda3/lib/python3.11/site-packages/seaborn/categorical.py:3544: UserWarning: 62.1% of the points cannot be placed; you may want to decrease the size of the markers or use stripplot.\n",
      "  warnings.warn(msg, UserWarning)\n",
      "/Users/kachu/anaconda3/lib/python3.11/site-packages/seaborn/categorical.py:3544: UserWarning: 70.0% of the points cannot be placed; you may want to decrease the size of the markers or use stripplot.\n",
      "  warnings.warn(msg, UserWarning)\n",
      "/Users/kachu/anaconda3/lib/python3.11/site-packages/seaborn/categorical.py:3544: UserWarning: 74.2% of the points cannot be placed; you may want to decrease the size of the markers or use stripplot.\n",
      "  warnings.warn(msg, UserWarning)\n",
      "/Users/kachu/anaconda3/lib/python3.11/site-packages/seaborn/categorical.py:3544: UserWarning: 76.9% of the points cannot be placed; you may want to decrease the size of the markers or use stripplot.\n",
      "  warnings.warn(msg, UserWarning)\n",
      "/Users/kachu/anaconda3/lib/python3.11/site-packages/seaborn/categorical.py:3544: UserWarning: 61.3% of the points cannot be placed; you may want to decrease the size of the markers or use stripplot.\n",
      "  warnings.warn(msg, UserWarning)\n",
      "/Users/kachu/anaconda3/lib/python3.11/site-packages/seaborn/categorical.py:3544: UserWarning: 77.6% of the points cannot be placed; you may want to decrease the size of the markers or use stripplot.\n",
      "  warnings.warn(msg, UserWarning)\n",
      "/Users/kachu/anaconda3/lib/python3.11/site-packages/seaborn/categorical.py:3544: UserWarning: 82.8% of the points cannot be placed; you may want to decrease the size of the markers or use stripplot.\n",
      "  warnings.warn(msg, UserWarning)\n",
      "/Users/kachu/anaconda3/lib/python3.11/site-packages/seaborn/categorical.py:3544: UserWarning: 81.0% of the points cannot be placed; you may want to decrease the size of the markers or use stripplot.\n",
      "  warnings.warn(msg, UserWarning)\n",
      "/Users/kachu/anaconda3/lib/python3.11/site-packages/seaborn/categorical.py:3544: UserWarning: 82.3% of the points cannot be placed; you may want to decrease the size of the markers or use stripplot.\n",
      "  warnings.warn(msg, UserWarning)\n",
      "/Users/kachu/anaconda3/lib/python3.11/site-packages/seaborn/categorical.py:3544: UserWarning: 84.0% of the points cannot be placed; you may want to decrease the size of the markers or use stripplot.\n",
      "  warnings.warn(msg, UserWarning)\n",
      "/Users/kachu/anaconda3/lib/python3.11/site-packages/seaborn/categorical.py:3544: UserWarning: 87.1% of the points cannot be placed; you may want to decrease the size of the markers or use stripplot.\n",
      "  warnings.warn(msg, UserWarning)\n",
      "/Users/kachu/anaconda3/lib/python3.11/site-packages/seaborn/categorical.py:3544: UserWarning: 88.5% of the points cannot be placed; you may want to decrease the size of the markers or use stripplot.\n",
      "  warnings.warn(msg, UserWarning)\n",
      "/Users/kachu/anaconda3/lib/python3.11/site-packages/seaborn/categorical.py:3544: UserWarning: 89.4% of the points cannot be placed; you may want to decrease the size of the markers or use stripplot.\n",
      "  warnings.warn(msg, UserWarning)\n",
      "/Users/kachu/anaconda3/lib/python3.11/site-packages/seaborn/categorical.py:3544: UserWarning: 89.8% of the points cannot be placed; you may want to decrease the size of the markers or use stripplot.\n",
      "  warnings.warn(msg, UserWarning)\n",
      "/Users/kachu/anaconda3/lib/python3.11/site-packages/seaborn/categorical.py:3544: UserWarning: 90.8% of the points cannot be placed; you may want to decrease the size of the markers or use stripplot.\n",
      "  warnings.warn(msg, UserWarning)\n",
      "/Users/kachu/anaconda3/lib/python3.11/site-packages/seaborn/categorical.py:3544: UserWarning: 92.1% of the points cannot be placed; you may want to decrease the size of the markers or use stripplot.\n",
      "  warnings.warn(msg, UserWarning)\n",
      "/Users/kachu/anaconda3/lib/python3.11/site-packages/seaborn/categorical.py:3544: UserWarning: 93.3% of the points cannot be placed; you may want to decrease the size of the markers or use stripplot.\n",
      "  warnings.warn(msg, UserWarning)\n",
      "/Users/kachu/anaconda3/lib/python3.11/site-packages/seaborn/categorical.py:3544: UserWarning: 92.5% of the points cannot be placed; you may want to decrease the size of the markers or use stripplot.\n",
      "  warnings.warn(msg, UserWarning)\n",
      "/Users/kachu/anaconda3/lib/python3.11/site-packages/seaborn/categorical.py:3544: UserWarning: 93.1% of the points cannot be placed; you may want to decrease the size of the markers or use stripplot.\n",
      "  warnings.warn(msg, UserWarning)\n",
      "/Users/kachu/anaconda3/lib/python3.11/site-packages/seaborn/categorical.py:3544: UserWarning: 94.9% of the points cannot be placed; you may want to decrease the size of the markers or use stripplot.\n",
      "  warnings.warn(msg, UserWarning)\n",
      "/Users/kachu/anaconda3/lib/python3.11/site-packages/seaborn/categorical.py:3544: UserWarning: 94.5% of the points cannot be placed; you may want to decrease the size of the markers or use stripplot.\n",
      "  warnings.warn(msg, UserWarning)\n",
      "/Users/kachu/anaconda3/lib/python3.11/site-packages/seaborn/categorical.py:3544: UserWarning: 95.4% of the points cannot be placed; you may want to decrease the size of the markers or use stripplot.\n",
      "  warnings.warn(msg, UserWarning)\n",
      "/Users/kachu/anaconda3/lib/python3.11/site-packages/seaborn/categorical.py:3544: UserWarning: 96.2% of the points cannot be placed; you may want to decrease the size of the markers or use stripplot.\n",
      "  warnings.warn(msg, UserWarning)\n",
      "/Users/kachu/anaconda3/lib/python3.11/site-packages/seaborn/categorical.py:3544: UserWarning: 96.0% of the points cannot be placed; you may want to decrease the size of the markers or use stripplot.\n",
      "  warnings.warn(msg, UserWarning)\n",
      "/Users/kachu/anaconda3/lib/python3.11/site-packages/seaborn/categorical.py:3544: UserWarning: 96.7% of the points cannot be placed; you may want to decrease the size of the markers or use stripplot.\n",
      "  warnings.warn(msg, UserWarning)\n",
      "/Users/kachu/anaconda3/lib/python3.11/site-packages/seaborn/categorical.py:3544: UserWarning: 96.9% of the points cannot be placed; you may want to decrease the size of the markers or use stripplot.\n",
      "  warnings.warn(msg, UserWarning)\n",
      "/Users/kachu/anaconda3/lib/python3.11/site-packages/seaborn/categorical.py:3544: UserWarning: 97.5% of the points cannot be placed; you may want to decrease the size of the markers or use stripplot.\n",
      "  warnings.warn(msg, UserWarning)\n",
      "/Users/kachu/anaconda3/lib/python3.11/site-packages/seaborn/categorical.py:3544: UserWarning: 97.7% of the points cannot be placed; you may want to decrease the size of the markers or use stripplot.\n",
      "  warnings.warn(msg, UserWarning)\n",
      "/Users/kachu/anaconda3/lib/python3.11/site-packages/seaborn/categorical.py:3544: UserWarning: 97.9% of the points cannot be placed; you may want to decrease the size of the markers or use stripplot.\n",
      "  warnings.warn(msg, UserWarning)\n",
      "/Users/kachu/anaconda3/lib/python3.11/site-packages/seaborn/categorical.py:3544: UserWarning: 98.0% of the points cannot be placed; you may want to decrease the size of the markers or use stripplot.\n",
      "  warnings.warn(msg, UserWarning)\n",
      "/Users/kachu/anaconda3/lib/python3.11/site-packages/seaborn/categorical.py:3544: UserWarning: 98.3% of the points cannot be placed; you may want to decrease the size of the markers or use stripplot.\n",
      "  warnings.warn(msg, UserWarning)\n",
      "/Users/kachu/anaconda3/lib/python3.11/site-packages/seaborn/categorical.py:3544: UserWarning: 98.5% of the points cannot be placed; you may want to decrease the size of the markers or use stripplot.\n",
      "  warnings.warn(msg, UserWarning)\n",
      "/Users/kachu/anaconda3/lib/python3.11/site-packages/seaborn/categorical.py:3544: UserWarning: 98.7% of the points cannot be placed; you may want to decrease the size of the markers or use stripplot.\n",
      "  warnings.warn(msg, UserWarning)\n",
      "/Users/kachu/anaconda3/lib/python3.11/site-packages/seaborn/categorical.py:3544: UserWarning: 98.9% of the points cannot be placed; you may want to decrease the size of the markers or use stripplot.\n",
      "  warnings.warn(msg, UserWarning)\n",
      "/Users/kachu/anaconda3/lib/python3.11/site-packages/seaborn/categorical.py:3544: UserWarning: 99.0% of the points cannot be placed; you may want to decrease the size of the markers or use stripplot.\n",
      "  warnings.warn(msg, UserWarning)\n",
      "/Users/kachu/anaconda3/lib/python3.11/site-packages/seaborn/categorical.py:3544: UserWarning: 99.1% of the points cannot be placed; you may want to decrease the size of the markers or use stripplot.\n",
      "  warnings.warn(msg, UserWarning)\n",
      "/Users/kachu/anaconda3/lib/python3.11/site-packages/seaborn/categorical.py:3544: UserWarning: 99.2% of the points cannot be placed; you may want to decrease the size of the markers or use stripplot.\n",
      "  warnings.warn(msg, UserWarning)\n",
      "/Users/kachu/anaconda3/lib/python3.11/site-packages/seaborn/categorical.py:3544: UserWarning: 99.3% of the points cannot be placed; you may want to decrease the size of the markers or use stripplot.\n",
      "  warnings.warn(msg, UserWarning)\n",
      "/Users/kachu/anaconda3/lib/python3.11/site-packages/seaborn/categorical.py:3544: UserWarning: 99.4% of the points cannot be placed; you may want to decrease the size of the markers or use stripplot.\n",
      "  warnings.warn(msg, UserWarning)\n",
      "/Users/kachu/anaconda3/lib/python3.11/site-packages/seaborn/categorical.py:3544: UserWarning: 99.5% of the points cannot be placed; you may want to decrease the size of the markers or use stripplot.\n",
      "  warnings.warn(msg, UserWarning)\n",
      "/Users/kachu/anaconda3/lib/python3.11/site-packages/seaborn/categorical.py:3544: UserWarning: 99.6% of the points cannot be placed; you may want to decrease the size of the markers or use stripplot.\n",
      "  warnings.warn(msg, UserWarning)\n"
     ]
    }
   ],
   "source": [
    "sns.swarmplot(data=df,\n",
    "            x='LDL_chole',\n",
    "            y='age')\n",
    "plt.xlabel('x')\n",
    "plt.ylabel('y')\n",
    "sns.despine()\n",
    "plt.show()\n",
    "\n"
   ]
  },
  {
   "cell_type": "code",
   "execution_count": null,
   "id": "0c78b69f",
   "metadata": {},
   "outputs": [],
   "source": [
    "# Create DFs With only numerical values\n",
    "# Removed tries, conversions & results\n",
    "cols = ['age', 'height', 'weight', 'waistline', 'sight_left',\n",
    "       'sight_right', 'hear_left', 'hear_right', 'SBP', 'DBP', 'BLDS',\n",
    "       'tot_chole', 'HDL_chole', 'LDL_chole', 'triglyceride', 'hemoglobin',\n",
    "       'urine_protein', 'serum_creatinine', 'SGOT_AST', 'SGOT_ALT',\n",
    "       'gamma_GTP', 'SMK_stat_type_cd']\n",
    "#usa_w_num = df[['Poss_Time_Diff', 'Score_Diff', 'Conv_Diff','Tries_Diff', 'Passes_Diff', 'Contestable_KO_Win_pct_Diff','PenFK_Against_Diff', 'RuckMaul_Diff', 'Ruck_Win_pct_Diff','Cards_diff', 'Lineout_Win_Pct_Diff', 'Scrum_Win_Pct_Diff', 'Result']]\n",
    "usa_num = df[cols]\n",
    "#usa_w_num = usa_w[cols]\n",
    "#usa_l_num = usa_l[cols]\n",
    "#usa_t_num = usa_t[cols]"
   ]
  },
  {
   "cell_type": "code",
   "execution_count": null,
   "id": "ebc21cf0",
   "metadata": {},
   "outputs": [],
   "source": [
    "corrmat = usa_num.corr()\n",
    "f, ax = plt.subplots(figsize=(12, 9))\n",
    "hm = sns.heatmap(round(corrmat,2), annot=True, ax=ax, cmap=\"coolwarm\",fmt='.2f',\n",
    "                 linewidths=.05)\n",
    "f.subplots_adjust(top=0.93)\n",
    "t= f.suptitle('Match Data Feature Correlation for all USA matches', fontsize=14)"
   ]
  },
  {
   "cell_type": "code",
   "execution_count": null,
   "id": "e2203401",
   "metadata": {},
   "outputs": [],
   "source": [
    "sns.pairplot(usa_num,  palette='Set1')\n",
    "plt.show()"
   ]
  },
  {
   "cell_type": "code",
   "execution_count": null,
   "id": "5176d0ac",
   "metadata": {},
   "outputs": [],
   "source": []
  },
  {
   "cell_type": "code",
   "execution_count": null,
   "id": "a1ee1965",
   "metadata": {},
   "outputs": [],
   "source": []
  }
 ],
 "metadata": {
  "kernelspec": {
   "display_name": "Python 3 (ipykernel)",
   "language": "python",
   "name": "python3"
  },
  "language_info": {
   "codemirror_mode": {
    "name": "ipython",
    "version": 3
   },
   "file_extension": ".py",
   "mimetype": "text/x-python",
   "name": "python",
   "nbconvert_exporter": "python",
   "pygments_lexer": "ipython3",
   "version": "3.11.3"
  }
 },
 "nbformat": 4,
 "nbformat_minor": 5
}
